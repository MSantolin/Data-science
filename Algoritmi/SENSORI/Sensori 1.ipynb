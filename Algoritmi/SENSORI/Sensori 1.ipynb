{
 "cells": [
  {
   "cell_type": "code",
   "execution_count": 1,
   "metadata": {},
   "outputs": [
    {
     "name": "stdout",
     "output_type": "stream",
     "text": [
      "Primi dati caricati:\n",
      "  provincia      giorno  total_transiti  total_trleggeri  total_trpesanti  \\\n",
      "0        MO  2019-01-01          143577           142750              822   \n",
      "1        BO  2019-01-01          261563           260314             1242   \n",
      "2        RN  2019-01-01            8264             8228               36   \n",
      "3        PR  2019-01-01            4602             4588               14   \n",
      "4        PC  2019-01-01            7138             7093               45   \n",
      "\n",
      "   total_trnonclassificati  total_trdiurno  total_trnotturno  total_trferiali  \\\n",
      "0                       50           86068             57509                0   \n",
      "1                       70          158381            103182                0   \n",
      "2                        0            5210              3054                0   \n",
      "3                        0            2712              1890                0   \n",
      "4                        0            4286              2852                0   \n",
      "\n",
      "   total_trfestivi  ngiornosettimana      sensori  \n",
      "0           143577                 2  Underground  \n",
      "1           261563                 2  Underground  \n",
      "2             8264                 2  Aboveground  \n",
      "3             4602                 2  Aboveground  \n",
      "4             7138                 2  Aboveground  \n"
     ]
    },
    {
     "name": "stderr",
     "output_type": "stream",
     "text": [
      "C:\\Users\\matte\\AppData\\Local\\Temp\\ipykernel_82384\\605741899.py:33: UserWarning: pandas only supports SQLAlchemy connectable (engine/connection) or database string URI or sqlite3 DBAPI2 connection. Other DBAPI2 objects are not tested. Please consider using SQLAlchemy.\n",
      "  df = pd.read_sql_query(query, conn)\n"
     ]
    }
   ],
   "source": [
    "import psycopg2\n",
    "import pandas as pd\n",
    "from sklearn.model_selection import train_test_split\n",
    "from sklearn.ensemble import RandomForestRegressor\n",
    "from sklearn.metrics import mean_absolute_error\n",
    "import numpy as np\n",
    "import matplotlib.pyplot as plt\n",
    "\n",
    "# -------------------------------\n",
    "# 1. Caricamento e Preprocessing\n",
    "# -------------------------------\n",
    "\n",
    "# Parametri di connessione\n",
    "host = \"localhost\"\n",
    "port = \"5432\"\n",
    "dbname = \"DataScience\"\n",
    "user = \"postgres\"\n",
    "password = \"2430\"\n",
    "\n",
    "# Connessione a PostgreSQL\n",
    "conn = psycopg2.connect(\n",
    "    host=host,\n",
    "    port=port,\n",
    "    dbname=dbname,\n",
    "    user=user,\n",
    "    password=password\n",
    ")\n",
    "\n",
    "# Query sulla vista\n",
    "query = \"SELECT * FROM public.vew_mts_provsensori\"\n",
    "\n",
    "# Caricare i dati in un DataFrame di Pandas\n",
    "df = pd.read_sql_query(query, conn)\n",
    "\n",
    "# Chiudere la connessione\n",
    "conn.close()\n",
    "\n",
    "# Visualizzare i dati\n",
    "print(\"Primi dati caricati:\")\n",
    "print(df.head())\n"
   ]
  },
  {
   "cell_type": "code",
   "execution_count": 2,
   "metadata": {},
   "outputs": [
    {
     "name": "stdout",
     "output_type": "stream",
     "text": [
      "\n",
      "Colonne dopo l'encoding dei sensori:\n",
      "['provincia', 'giorno', 'total_transiti', 'total_trleggeri', 'total_trpesanti', 'total_trnonclassificati', 'total_trdiurno', 'total_trnotturno', 'total_trferiali', 'total_trfestivi', 'ngiornosettimana', 'giorno_della_settimana', 'mese', 'target', 'prev_transiti', 'prev_trleggeri', 'prev_trpesanti', 'prev_trnonclassificati', 'sensori_Aboveground', 'sensori_Underground']\n"
     ]
    }
   ],
   "source": [
    "# Conversione della colonna 'giorno' in formato datetime\n",
    "df['giorno'] = pd.to_datetime(df['giorno'])\n",
    "\n",
    "# Aggiungere features: giorno della settimana e mese\n",
    "df['giorno_della_settimana'] = df['giorno'].dt.weekday\n",
    "df['mese'] = df['giorno'].dt.month\n",
    "\n",
    "# Creare il target: traffico totale per il giorno (assunto essere nella colonna 'total_transiti')\n",
    "df['target'] = df['total_transiti']\n",
    "\n",
    "# Creare variabili per i giorni precedenti\n",
    "df['prev_transiti'] = df['total_transiti'].shift(1)\n",
    "df['prev_trleggeri'] = df['total_trleggeri'].shift(1)\n",
    "df['prev_trpesanti'] = df['total_trpesanti'].shift(1)\n",
    "df['prev_trnonclassificati'] = df['total_trnonclassificati'].shift(1)\n",
    "\n",
    "# Rimuovere le righe con NaN (es. la prima riga, dovuta allo shift)\n",
    "df = df.dropna()\n",
    "# Applicare One-Hot Encoding per la colonna 'sensori' (aboveground, underground)\n",
    "df = pd.get_dummies(df, columns=['sensori'], prefix='sensori')\n",
    "\n",
    "# Visualizzare le colonne per verificare l'encoding\n",
    "print(\"\\nColonne dopo l'encoding dei sensori:\")\n",
    "print(df.columns.tolist())"
   ]
  },
  {
   "cell_type": "code",
   "execution_count": 3,
   "metadata": {},
   "outputs": [
    {
     "name": "stdout",
     "output_type": "stream",
     "text": [
      "\n",
      "Numero di record per Aboveground: 2869\n",
      "Numero di record per Underground: 3284\n"
     ]
    }
   ],
   "source": [
    "# -------------------------------\n",
    "# 2. Esperimenti di Modellazione\n",
    "# -------------------------------\n",
    "\n",
    "# Definiamo le feature di base (senza le informazioni sui sensori)\n",
    "base_feature_cols = ['prev_transiti', 'prev_trleggeri', 'prev_trpesanti', 'prev_trnonclassificati', \n",
    "                     'giorno_della_settimana', 'mese']\n",
    "\n",
    "# Modelli Indipendenti per ciascun tipo di sensore\n",
    "# Creiamo dataset separati per Aboveground e Underground\n",
    "df_above = df[df['sensori_Aboveground'] == 1].copy()\n",
    "df_under = df[df['sensori_Underground'] == 1].copy()\n",
    "\n",
    "print(f\"\\nNumero di record per Aboveground: {len(df_above)}\")\n",
    "print(f\"Numero di record per Underground: {len(df_under)}\")"
   ]
  },
  {
   "cell_type": "code",
   "execution_count": 4,
   "metadata": {},
   "outputs": [
    {
     "name": "stdout",
     "output_type": "stream",
     "text": [
      "\n",
      "MAE per sensori Aboveground: 12732.284146341462\n"
     ]
    }
   ],
   "source": [
    "# Modello per sensori Aboveground\n",
    "X_above = df_above[base_feature_cols]\n",
    "y_above = df_above['target']\n",
    "\n",
    "X_train_above, X_test_above, y_train_above, y_test_above = train_test_split(X_above, y_above, test_size=0.2, shuffle=False)\n",
    "\n",
    "model_above = RandomForestRegressor(n_estimators=100, random_state=42)\n",
    "model_above.fit(X_train_above, y_train_above)\n",
    "y_pred_above = model_above.predict(X_test_above)\n",
    "mae_above = mean_absolute_error(y_test_above, y_pred_above)\n",
    "print(f\"\\nMAE per sensori Aboveground: {mae_above}\")"
   ]
  },
  {
   "cell_type": "code",
   "execution_count": 5,
   "metadata": {},
   "outputs": [
    {
     "name": "stdout",
     "output_type": "stream",
     "text": [
      "MAE per sensori Underground: 108228.82928462708\n"
     ]
    }
   ],
   "source": [
    "# Modello per sensori Underground\n",
    "X_under = df_under[base_feature_cols]\n",
    "y_under = df_under['target']\n",
    "\n",
    "X_train_under, X_test_under, y_train_under, y_test_under = train_test_split(X_under, y_under, test_size=0.2, shuffle=False)\n",
    "\n",
    "model_under = RandomForestRegressor(n_estimators=100, random_state=42)\n",
    "model_under.fit(X_train_under, y_train_under)\n",
    "y_pred_under = model_under.predict(X_test_under)\n",
    "mae_under = mean_absolute_error(y_test_under, y_pred_under)\n",
    "print(f\"MAE per sensori Underground: {mae_under}\")"
   ]
  },
  {
   "cell_type": "code",
   "execution_count": 6,
   "metadata": {},
   "outputs": [
    {
     "name": "stdout",
     "output_type": "stream",
     "text": [
      "\n",
      "MAE per il modello misto (entrambi i sensori): 63507.07363119415\n"
     ]
    }
   ],
   "source": [
    "# Modello Misto che usa le informazioni sui sensori\n",
    "\n",
    "# Includiamo le feature relative ai sensori\n",
    "mixed_feature_cols = base_feature_cols + ['sensori_Aboveground', 'sensori_Underground']\n",
    "X_mixed = df[mixed_feature_cols]\n",
    "y_mixed = df['target']\n",
    "\n",
    "X_train_mixed, X_test_mixed, y_train_mixed, y_test_mixed = train_test_split(X_mixed, y_mixed, test_size=0.2, shuffle=False)\n",
    "\n",
    "model_mixed = RandomForestRegressor(n_estimators=100, random_state=42)\n",
    "model_mixed.fit(X_train_mixed, y_train_mixed)\n",
    "y_pred_mixed = model_mixed.predict(X_test_mixed)\n",
    "mae_mixed = mean_absolute_error(y_test_mixed, y_pred_mixed)\n",
    "print(f\"\\nMAE per il modello misto (entrambi i sensori): {mae_mixed}\")"
   ]
  },
  {
   "cell_type": "code",
   "execution_count": 7,
   "metadata": {},
   "outputs": [
    {
     "name": "stdout",
     "output_type": "stream",
     "text": [
      "\n",
      "Importanza delle feature nel modello misto:\n",
      "                  Feature  Importance\n",
      "7     sensori_Underground    0.306048\n",
      "6     sensori_Aboveground    0.294086\n",
      "2          prev_trpesanti    0.115777\n",
      "1          prev_trleggeri    0.078710\n",
      "0           prev_transiti    0.072884\n",
      "3  prev_trnonclassificati    0.045665\n",
      "5                    mese    0.045287\n",
      "4  giorno_della_settimana    0.041544\n"
     ]
    },
    {
     "data": {
      "image/png": "[encoded data removed]",
      "text/plain": [
       "<Figure size 1000x600 with 1 Axes>"
      ]
     },
     "metadata": {},
     "output_type": "display_data"
    }
   ],
   "source": [
    "# Analisi dell'importanza delle feature nel modello misto\n",
    "importances = model_mixed.feature_importances_\n",
    "feature_importance_df = pd.DataFrame({'Feature': mixed_feature_cols, 'Importance': importances})\n",
    "feature_importance_df = feature_importance_df.sort_values(by='Importance', ascending=False)\n",
    "print(\"\\nImportanza delle feature nel modello misto:\")\n",
    "print(feature_importance_df)\n",
    "\n",
    "plt.figure(figsize=(10, 6))\n",
    "plt.barh(feature_importance_df['Feature'], feature_importance_df['Importance'], color='skyblue')\n",
    "plt.xlabel(\"Importanza\")\n",
    "plt.ylabel(\"Feature\")\n",
    "plt.title(\"Importanza delle feature nel modello misto\")\n",
    "plt.gca().invert_yaxis()\n",
    "plt.show()"
   ]
  },
  {
   "cell_type": "code",
   "execution_count": 8,
   "metadata": {},
   "outputs": [
    {
     "name": "stdout",
     "output_type": "stream",
     "text": [
      "\n",
      "Confronto dei MAE:\n",
      "MAE Aboveground: 12732.284146341462\n",
      "MAE Underground: 108228.82928462708\n",
      "MAE Misto (entrambi): 63507.07363119415\n"
     ]
    }
   ],
   "source": [
    "print(f\"\\nConfronto dei MAE:\")\n",
    "print(f\"MAE Aboveground: {mae_above}\")\n",
    "print(f\"MAE Underground: {mae_under}\")\n",
    "print(f\"MAE Misto (entrambi): {mae_mixed}\")"
   ]
  }
 ],
 "metadata": {
  "kernelspec": {
   "display_name": "Python 3",
   "language": "python",
   "name": "python3"
  },
  "language_info": {
   "codemirror_mode": {
    "name": "ipython",
    "version": 3
   },
   "file_extension": ".py",
   "mimetype": "text/x-python",
   "name": "python",
   "nbconvert_exporter": "python",
   "pygments_lexer": "ipython3",
   "version": "3.10.6"
  }
 },
 "nbformat": 4,
 "nbformat_minor": 2
}
